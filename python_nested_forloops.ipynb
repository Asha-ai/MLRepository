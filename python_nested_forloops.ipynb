{
 "cells": [
  {
   "cell_type": "markdown",
   "metadata": {},
   "source": [
    "# Learn Nested Forloops"
   ]
  },
  {
   "cell_type": "code",
   "execution_count": null,
   "metadata": {},
   "outputs": [],
   "source": [
    "# Nested For Loops - Loops can be iterate in python\n",
    "# A nested loop with in a loop that occur within another loop.\n",
    "# syntax:\n",
    "# for (first iterable variable) in (outer loop):\n",
    "#     [statements]\n",
    "#     for (second iterable variable) in (nested loop):\n",
    "#         [statements]\n",
    "#         "
   ]
  },
  {
   "cell_type": "code",
   "execution_count": null,
   "metadata": {},
   "outputs": [],
   "source": []
  },
  {
   "cell_type": "code",
   "execution_count": null,
   "metadata": {},
   "outputs": [],
   "source": [
    " # Exercise 1: Write question words 3 times using nested loops\n",
    "    "
   ]
  },
  {
   "cell_type": "code",
   "execution_count": 3,
   "metadata": {},
   "outputs": [
    {
     "name": "stdout",
     "output_type": "stream",
     "text": [
      "1\n",
      "What\n",
      "When\n",
      "Why\n",
      "2\n",
      "What\n",
      "When\n",
      "Why\n",
      "3\n",
      "What\n",
      "When\n",
      "Why\n"
     ]
    }
   ],
   "source": [
    "# Write question words 3 times\n",
    "\n",
    "serial_number = [1,2,3]\n",
    "weekday = ['What','When','Why']\n",
    "for i in serial_number: #Outer Loop\n",
    "    print(i)\n",
    "    for j in weekday:   #Nested Loop / Inner Loop\n",
    "        print(j)"
   ]
  },
  {
   "cell_type": "code",
   "execution_count": null,
   "metadata": {},
   "outputs": [],
   "source": [
    "# Nested for loops can be useful for iterating through items \n",
    "# with in list composed of lists.In list composed of lists ,\n",
    "# if we employ just one for loop ,the program will output each internal list as and iten"
   ]
  },
  {
   "cell_type": "code",
   "execution_count": null,
   "metadata": {},
   "outputs": [],
   "source": [
    "Exercise 2 : Use single for loop to access each list "
   ]
  },
  {
   "cell_type": "code",
   "execution_count": 5,
   "metadata": {},
   "outputs": [
    {
     "name": "stdout",
     "output_type": "stream",
     "text": [
      "['Lion', 'Deer', 'Sheep']\n",
      "['Cub', 'Fawn', 'Lamb']\n"
     ]
    }
   ],
   "source": [
    " \n",
    "list = [['Lion','Deer','Sheep'],['Cub','Fawn','Lamb']] # List with in the list\n",
    "for i in list: \n",
    "    print(i)"
   ]
  },
  {
   "cell_type": "code",
   "execution_count": null,
   "metadata": {},
   "outputs": [],
   "source": [
    "# Exercise 3 : Using Nested for loop access each individual element from list with in the list"
   ]
  },
  {
   "cell_type": "code",
   "execution_count": 6,
   "metadata": {},
   "outputs": [
    {
     "name": "stdout",
     "output_type": "stream",
     "text": [
      "Lion\n",
      "Deer\n",
      "Sheep\n",
      "Cub\n",
      "Fawn\n",
      "Lamb\n"
     ]
    }
   ],
   "source": [
    "\n",
    "list = [['Lion','Deer','Sheep'],['Cub','Fawn','Lamb']] # List with in the list\n",
    "for i in list:\n",
    "    for j in i:\n",
    "        print(j)"
   ]
  },
  {
   "cell_type": "code",
   "execution_count": null,
   "metadata": {},
   "outputs": [],
   "source": [
    "# Exercise 4 : Multiply with place values[10's,100's] to the given lists "
   ]
  },
  {
   "cell_type": "code",
   "execution_count": 15,
   "metadata": {},
   "outputs": [
    {
     "name": "stdout",
     "output_type": "stream",
     "text": [
      "[[1, 2], [3, 4]]\n",
      "[[10, 20], [300, 400]]\n"
     ]
    }
   ],
   "source": [
    "list=[[1,2],[3,4]]\n",
    "m = 1\n",
    "print(list)\n",
    "for i in range(0,2):\n",
    "    m *= 10\n",
    "    for j in range(0,2):\n",
    "        list[i][j] *= m\n",
    "print(list)        \n",
    "    "
   ]
  },
  {
   "cell_type": "code",
   "execution_count": null,
   "metadata": {},
   "outputs": [],
   "source": [
    "Exercise 5: print the fallowing output\n",
    "1\n",
    "2 2\n",
    "3 3 3\n",
    "4 4 4 4"
   ]
  },
  {
   "cell_type": "code",
   "execution_count": 18,
   "metadata": {},
   "outputs": [
    {
     "name": "stdout",
     "output_type": "stream",
     "text": [
      "1 \n",
      "2 2 \n",
      "3 3 3 \n",
      "4 4 4 4 \n"
     ]
    }
   ],
   "source": [
    "for i in range(1,5):\n",
    "    for j in range(i):\n",
    "        print(i,end=' ')\n",
    "    print()    \n"
   ]
  },
  {
   "cell_type": "code",
   "execution_count": null,
   "metadata": {},
   "outputs": [],
   "source": [
    "# Exercise 6: Skip overls to print from the sentence 'Python Logics For Kids'"
   ]
  },
  {
   "cell_type": "code",
   "execution_count": 27,
   "metadata": {},
   "outputs": [
    {
     "name": "stdout",
     "output_type": "stream",
     "text": [
      "Pythn Lgcs Fr Kds"
     ]
    }
   ],
   "source": [
    "for i in 'Python Logics For Kids':\n",
    "    if i == 'a' or i == 'e' or i== 'i' or i == 'o' or i == 'u':\n",
    "        continue\n",
    "    print(i,end = '')    \n",
    "    "
   ]
  },
  {
   "cell_type": "code",
   "execution_count": null,
   "metadata": {},
   "outputs": [],
   "source": [
    "#  Exercise 7 :  Print the * pattern using nested for loops\n",
    "# * \n",
    "# * * \n",
    "# * * * \n",
    "# * * * * \n",
    "# * * * * * \n",
    "# * * * * \n",
    "# * * * \n",
    "# * * \n",
    "# * "
   ]
  },
  {
   "cell_type": "code",
   "execution_count": 30,
   "metadata": {},
   "outputs": [
    {
     "name": "stdout",
     "output_type": "stream",
     "text": [
      "Enter value to print starts sequence:5\n",
      "\n",
      "* \n",
      "* * \n",
      "* * * \n",
      "* * * * \n",
      "* * * * * \n",
      "* * * * \n",
      "* * * \n",
      "* * \n",
      "* \n"
     ]
    }
   ],
   "source": [
    "# Initialize the first five rows\n",
    "n = int(input(\"Enter value to print starts sequence:\"))\n",
    "\n",
    "# Start the loop to print the first five rows\n",
    "for i in range(n):\n",
    "    for j in range(i):\n",
    "        print('* ', end=\"\")\n",
    "    print('')\n",
    "\n",
    "#  Decreasing order of stars from the middle\n",
    "for i in range(n,0,-1):\n",
    "    for j in range(i):\n",
    "        print('* ', end=\"\")\n",
    "    print('')"
   ]
  },
  {
   "cell_type": "code",
   "execution_count": null,
   "metadata": {},
   "outputs": [],
   "source": [
    "#  Exercise 8 : Print given pattern - print single star at first row 2 stars in the second row and continue\n",
    "#     doing this in a similar fashion\n",
    "# *\n",
    "# **\n",
    "# ***\n",
    "# ****"
   ]
  },
  {
   "cell_type": "code",
   "execution_count": 10,
   "metadata": {},
   "outputs": [
    {
     "name": "stdout",
     "output_type": "stream",
     "text": [
      "* \n",
      "* * \n",
      "* * * \n",
      "* * * * \n"
     ]
    }
   ],
   "source": [
    "for i in range(0,4):\n",
    "    for j in range(0,i+1):\n",
    "        print(\"*\",end=' ')\n",
    "    print()\n",
    "    "
   ]
  },
  {
   "cell_type": "code",
   "execution_count": null,
   "metadata": {},
   "outputs": [],
   "source": [
    "#  Exercise 9 :Print odd number patterns\n",
    "# * \n",
    "# ***\n",
    "# *****\n",
    "# *******"
   ]
  },
  {
   "cell_type": "code",
   "execution_count": 9,
   "metadata": {},
   "outputs": [
    {
     "name": "stdout",
     "output_type": "stream",
     "text": [
      "* \n",
      "* * * \n",
      "* * * * * \n",
      "* * * * * * * \n",
      "* * * * * * * * * \n"
     ]
    }
   ],
   "source": [
    "k = 1\n",
    "for i in range(0,5):\n",
    "    for j in range(0,k):\n",
    "        print(\"*\",end=' ')\n",
    "    k= k+2\n",
    "    print()"
   ]
  },
  {
   "cell_type": "code",
   "execution_count": null,
   "metadata": {},
   "outputs": [],
   "source": [
    "#  Exercise 10 : Print Alpabets\n",
    "# A \n",
    "# B C \n",
    "# D E F \n",
    "# G H I J \n",
    "# K L M N O  "
   ]
  },
  {
   "cell_type": "code",
   "execution_count": 11,
   "metadata": {},
   "outputs": [
    {
     "name": "stdout",
     "output_type": "stream",
     "text": [
      "A \n",
      "B C \n",
      "D E F \n",
      "G H I J \n",
      "K L M N O \n"
     ]
    }
   ],
   "source": [
    "val = 65\n",
    "for i in range(0,5):\n",
    "    for j in range(0,i+1):\n",
    "        ch = chr(val)\n",
    "        print(ch,end=\" \")\n",
    "        val = val+1\n",
    "    print()    "
   ]
  },
  {
   "cell_type": "code",
   "execution_count": null,
   "metadata": {},
   "outputs": [],
   "source": [
    "#  Exercise 11 : Print A one time B two times ...\n",
    "# A \n",
    "# B B \n",
    "# C C C \n",
    "# D D D D \n",
    "# E E E E E "
   ]
  },
  {
   "cell_type": "code",
   "execution_count": 19,
   "metadata": {},
   "outputs": [
    {
     "name": "stdout",
     "output_type": "stream",
     "text": [
      "A \n",
      "B B \n",
      "C C C \n",
      "D D D D \n",
      "E E E E E \n"
     ]
    }
   ],
   "source": [
    "val = 65\n",
    "for i in range(0,5):\n",
    "    for j in range(0,i+1):\n",
    "        ch = chr(val)\n",
    "        print(ch,end=\" \")\n",
    "    val = val+1\n",
    "    print()    "
   ]
  },
  {
   "cell_type": "code",
   "execution_count": null,
   "metadata": {},
   "outputs": [],
   "source": [
    "# Exercise 11 : Print your name in 3 rows and 5 columns"
   ]
  },
  {
   "cell_type": "code",
   "execution_count": 15,
   "metadata": {},
   "outputs": [
    {
     "name": "stdout",
     "output_type": "stream",
     "text": [
      "what is your name: techies\n",
      "techies  techies  techies  \n",
      "techies  techies  techies  \n",
      "techies  techies  techies  \n",
      "techies  techies  techies  \n",
      "techies  techies  techies  \n"
     ]
    }
   ],
   "source": [
    "name=input(\"what is your name: \")\n",
    "for x in range(5):                   # 5 rows   \n",
    "    for x in range(3):               # 3 columns\n",
    "        print(name+\" \",end=\" \")\n",
    "    print()"
   ]
  },
  {
   "cell_type": "code",
   "execution_count": null,
   "metadata": {},
   "outputs": [],
   "source": []
  }
 ],
 "metadata": {
  "kernelspec": {
   "display_name": "Python 3",
   "language": "python",
   "name": "python3"
  },
  "language_info": {
   "codemirror_mode": {
    "name": "ipython",
    "version": 3
   },
   "file_extension": ".py",
   "mimetype": "text/x-python",
   "name": "python",
   "nbconvert_exporter": "python",
   "pygments_lexer": "ipython3",
   "version": "3.7.2"
  }
 },
 "nbformat": 4,
 "nbformat_minor": 2
}
