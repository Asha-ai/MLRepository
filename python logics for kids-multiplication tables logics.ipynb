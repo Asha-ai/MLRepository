{
 "cells": [
  {
   "cell_type": "code",
   "execution_count": 60,
   "metadata": {},
   "outputs": [
    {
     "name": "stdout",
     "output_type": "stream",
     "text": [
      "5 * 1 = 5\n",
      "5 * 2 = 10\n",
      "5 * 3 = 15\n"
     ]
    }
   ],
   "source": [
    "# while loop\n",
    "# print 5 table upto 3 times using while \n",
    "# Here a is table name b is from 1 to 3\n",
    "a=5\n",
    "i=1\n",
    "while i <= 3:\n",
    "    print(\"%d * %d = %d\" %(a,i,a*i))\n",
    "    i+=1"
   ]
  },
  {
   "cell_type": "code",
   "execution_count": 61,
   "metadata": {},
   "outputs": [
    {
     "name": "stdout",
     "output_type": "stream",
     "text": [
      "15 * 1 = 15\n",
      "15 * 2 = 30\n",
      "15 * 3 = 45\n",
      "15 * 4 = 60\n",
      "15 * 5 = 75\n"
     ]
    }
   ],
   "source": [
    "#print table 15 from 10 times using range and for loop\n",
    "#Initialize a variable with the Table value 15\n",
    "# renage function used to take the range of table to print\n",
    "\n",
    "a=15\n",
    "for i in range(1,6):\n",
    "    print(\"%d * %d = %d\"  %(a,i,a*i))\n",
    "    "
   ]
  },
  {
   "cell_type": "code",
   "execution_count": 62,
   "metadata": {},
   "outputs": [
    {
     "name": "stdout",
     "output_type": "stream",
     "text": [
      "Enter your prefered table number:8\n",
      "Multiplication Table of: 8\n",
      "8 X 1 = 8\n",
      "8 X 2 = 16\n",
      "8 X 3 = 24\n",
      "8 X 4 = 32\n",
      "8 X 5 = 40\n",
      "8 X 6 = 48\n",
      "8 X 7 = 56\n",
      "8 X 8 = 64\n",
      "8 X 9 = 72\n",
      "8 X 10 = 80\n"
     ]
    }
   ],
   "source": [
    "# Write any multiplication tables with the user input.\n",
    "# Print upto 10 times\n",
    "\n",
    "input_number = int(input(\"Enter your prefered table number:\"))\n",
    "print(\"Multiplication Table of:\",input_number)\n",
    "for i in range(1,11):\n",
    "    print(input_number, \"X\", i ,\"=\", input_number*i)               \n",
    "                       \n",
    "                   "
   ]
  },
  {
   "cell_type": "code",
   "execution_count": 1,
   "metadata": {},
   "outputs": [
    {
     "name": "stdout",
     "output_type": "stream",
     "text": [
      "Enter Multiplication Table Number:17\n",
      "Enter a number how many times you want:3\n",
      "17 *  1 = 17\n",
      "17 *  2 = 34\n",
      "17 *  3 = 51\n"
     ]
    }
   ],
   "source": [
    "# Take table number and the table limit from the user and print multiplication table\n",
    "# Take table value from user\n",
    "num = int(input(\"Enter Multiplication Table Number:\"))\n",
    "limit = int(input(\"Enter a number how many times you want:\"))\n",
    "\n",
    "# insted of \"%d * %d = %d\"  we can use this format  '{:2}*{:2}={:2}' - it means '{:2d}*{:2}={:2}' \n",
    "# can increase spaces accordingly - play arround spaces.\n",
    "for limit in range(1,limit+1):\n",
    "    print('{:2} * {:2} = {:2}'.format(num, limit, num*limit)) \n"
   ]
  },
  {
   "cell_type": "code",
   "execution_count": 18,
   "metadata": {},
   "outputs": [
    {
     "name": "stdout",
     "output_type": "stream",
     "text": [
      "15 * 1 = 15  ;  15 * 2 = 30  ;  15 * 3 = 45  ;  15 * 4 = 60  ;  15 * 5 = 75  ;  15 * 6 = 90  ;  15 * 7 = 105  ;  15 * 8 = 120  ;  15 * 9 = 135  ;  15 * 10 = 150  ;  "
     ]
    }
   ],
   "source": [
    "# with out new line use semicoloun using end\n",
    "a=15\n",
    "for i in range(1,11):\n",
    "    print(\"%d * %d = %d\"  %(a,i,a*i),end=\"  ;  \")\n",
    "    "
   ]
  },
  {
   "cell_type": "code",
   "execution_count": 47,
   "metadata": {},
   "outputs": [
    {
     "name": "stdout",
     "output_type": "stream",
     "text": [
      " 1  2  3  4  5  6  7  8  9 \n",
      " 2  4  6  8 10 12 14 16 18 \n",
      " 3  6  9 12 15 18 21 24 27 \n",
      " 4  8 12 16 20 24 28 32 36 \n",
      " 5 10 15 20 25 30 35 40 45 \n",
      " 6 12 18 24 30 36 42 48 54 \n",
      " 7 14 21 28 35 42 49 56 63 \n",
      " 8 16 24 32 40 48 56 64 72 \n",
      " 9 18 27 36 45 54 63 72 81 \n"
     ]
    }
   ],
   "source": [
    "# 2d multiplication tables upto 9 *9=81\n",
    "for i in range(1, 10):\n",
    "    #print(\"i =\", i, \":\", end=\" \")\n",
    "    for j in range(1, 10):\n",
    "        print(\"{:2d}\".format(i * j), end=\" \") \n",
    "    print()\n"
   ]
  },
  {
   "cell_type": "code",
   "execution_count": 2,
   "metadata": {},
   "outputs": [
    {
     "name": "stdout",
     "output_type": "stream",
     "text": [
      "i = 1 :  1  2  3  4  5  6  7  8  9 \n",
      "i = 2 :  2  4  6  8 10 12 14 16 18 \n",
      "i = 3 :  3  6  9 12 15 18 21 24 27 \n",
      "i = 4 :  4  8 12 16 20 24 28 32 36 \n",
      "i = 5 :  5 10 15 20 25 30 35 40 45 \n",
      "i = 6 :  6 12 18 24 30 36 42 48 54 \n",
      "i = 7 :  7 14 21 28 35 42 49 56 63 \n",
      "i = 8 :  8 16 24 32 40 48 56 64 72 \n",
      "i = 9 :  9 18 27 36 45 54 63 72 81 \n"
     ]
    }
   ],
   "source": [
    "# 2d multiplication tables upto 9 *9=81\n",
    "for i in range(1, 10):\n",
    "    print(\"i =\", i, \":\", end=\" \")\n",
    "    for j in range(1, 10):\n",
    "        print(\"{:2d}\".format(i * j), end=\" \") \n",
    "    print()\n"
   ]
  },
  {
   "cell_type": "code",
   "execution_count": null,
   "metadata": {},
   "outputs": [],
   "source": [
    "Keep Enjoy learning loops :)"
   ]
  }
 ],
 "metadata": {
  "kernelspec": {
   "display_name": "Python 3",
   "language": "python",
   "name": "python3"
  },
  "language_info": {
   "codemirror_mode": {
    "name": "ipython",
    "version": 3
   },
   "file_extension": ".py",
   "mimetype": "text/x-python",
   "name": "python",
   "nbconvert_exporter": "python",
   "pygments_lexer": "ipython3",
   "version": "3.7.2"
  }
 },
 "nbformat": 4,
 "nbformat_minor": 2
}
