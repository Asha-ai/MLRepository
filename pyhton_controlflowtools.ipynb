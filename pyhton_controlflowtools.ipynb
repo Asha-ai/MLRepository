{
 "cells": [
  {
   "cell_type": "markdown",
   "metadata": {},
   "source": [
    "# break and continue and pass"
   ]
  },
  {
   "cell_type": "code",
   "execution_count": null,
   "metadata": {},
   "outputs": [],
   "source": [
    "Python Control Flow Tools\n",
    "Introduction\n",
    "Using for loops and while loops in Python allow you to automate and repeat tasks in an \n",
    "efficient manner.\n",
    "\n",
    "But sometimes, an external factor may influence the way your program runs. \n",
    "When this occurs, you may want your program to exit a loop completely, skip part of\n",
    "a loop before continuing, or ignore that external factor. You can do these actions with break, \n",
    "continue, and pass statements."
   ]
  },
  {
   "cell_type": "code",
   "execution_count": null,
   "metadata": {},
   "outputs": [],
   "source": [
    "break statement:\n",
    "In Python, the break statement provides you with the opportunity to exit out of a loop when an \n",
    "external condition is triggered.\n",
    "\n",
    "Continue statement:\n",
    "The continue statement gives you the option to skip over the part of a loop where an external \n",
    "condition is triggered, but to go on to complete the rest of the loop.     "
   ]
  },
  {
   "cell_type": "code",
   "execution_count": null,
   "metadata": {},
   "outputs": [],
   "source": [
    "# Python program to break\n",
    "while True:\n",
    "    out = input('type EXIT to exit the loop: ')\n",
    "    if out == 'EXIT' or out == 'exit':\n",
    "        break\n",
    "print('Loop exited')"
   ]
  },
  {
   "cell_type": "code",
   "execution_count": null,
   "metadata": {},
   "outputs": [],
   "source": [
    "Example:1 Break with numbers"
   ]
  },
  {
   "cell_type": "code",
   "execution_count": 9,
   "metadata": {},
   "outputs": [
    {
     "name": "stdout",
     "output_type": "stream",
     "text": [
      "Number is 0\n",
      "Number is 1\n",
      "Number is 2\n",
      "Out of loop\n"
     ]
    }
   ],
   "source": [
    "# print numbers 100 to 105 with out printing 103\n",
    "\n",
    "for n in range(10):\n",
    "    if n == 3:\n",
    "        break    # break here\n",
    "\n",
    "    print('Number is ' + str(n))\n",
    "\n",
    "print('Out of loop')"
   ]
  },
  {
   "cell_type": "code",
   "execution_count": null,
   "metadata": {},
   "outputs": [],
   "source": [
    "Example:2 Break with a string"
   ]
  },
  {
   "cell_type": "code",
   "execution_count": 17,
   "metadata": {},
   "outputs": [
    {
     "name": "stdout",
     "output_type": "stream",
     "text": [
      "l\n",
      "e\n",
      "a\n",
      "r\n",
      "n\n"
     ]
    }
   ],
   "source": [
    "for val in \"learning python control statements\":\n",
    "    if val == \"i\":   #when ever first i occurs then the look breaks\n",
    "        break\n",
    "    print(val)\n"
   ]
  },
  {
   "cell_type": "code",
   "execution_count": null,
   "metadata": {},
   "outputs": [],
   "source": [
    "Example :2 Continue"
   ]
  },
  {
   "cell_type": "code",
   "execution_count": 12,
   "metadata": {},
   "outputs": [
    {
     "name": "stdout",
     "output_type": "stream",
     "text": [
      "Number is 0\n",
      "Number is 1\n",
      "Number is 2\n",
      "Number is 4\n",
      "Number is 5\n",
      "Number is 6\n",
      "Number is 7\n",
      "Number is 8\n",
      "Number is 9\n",
      "Out of loop\n"
     ]
    }
   ],
   "source": [
    "for n in range(10):\n",
    "    if n == 3:\n",
    "         continue    # continue here\n",
    "\n",
    "    print('Number is ' + str(n))\n",
    "\n",
    "print('Out of loop')   "
   ]
  },
  {
   "cell_type": "code",
   "execution_count": 50,
   "metadata": {},
   "outputs": [
    {
     "name": "stdout",
     "output_type": "stream",
     "text": [
      "c\n",
      "o\n",
      "n\n",
      "r\n",
      "o\n",
      "l\n",
      " \n",
      "s\n",
      "a\n",
      "m\n",
      "n\n",
      "s\n"
     ]
    }
   ],
   "source": [
    "for i in \"control statements\":\n",
    "    if i == 't' or i == 'e':   # skipt the letters t and e\n",
    "        continue\n",
    "    print(i)"
   ]
  },
  {
   "cell_type": "code",
   "execution_count": null,
   "metadata": {},
   "outputs": [],
   "source": [
    "Pass Statement\n",
    "When an external condition is triggered, the pass statement allows you to handle the condition\n",
    "without the loop being impacted in any way; all of the code will continue to be read unless a\n",
    "break or other statement occurs.\n",
    "\n",
    "As with the other statements, the pass statement will be within the block of code under the \n",
    "loop statement, typically after a conditional if statement."
   ]
  },
  {
   "cell_type": "code",
   "execution_count": null,
   "metadata": {},
   "outputs": [],
   "source": [
    "Example1: Pass statement"
   ]
  },
  {
   "cell_type": "code",
   "execution_count": 49,
   "metadata": {},
   "outputs": [
    {
     "name": "stdout",
     "output_type": "stream",
     "text": [
      "Number is 0\n",
      "Number is 1\n",
      "Number is 2\n",
      "Number is 3\n",
      "Number is 4\n",
      "Number is 5\n",
      "Number is 6\n",
      "Number is 7\n",
      "Number is 8\n",
      "Number is 9\n",
      "Out of loop\n"
     ]
    }
   ],
   "source": [
    "# Try this example with pass and without\n",
    "number = 0\n",
    "\n",
    "for number in range(10):\n",
    "    if number == 5:\n",
    "        pass    # pass here\n",
    "\n",
    "    print('Number is ' + str(number))\n",
    "\n",
    "print('Out of loop')"
   ]
  },
  {
   "cell_type": "code",
   "execution_count": 47,
   "metadata": {},
   "outputs": [
    {
     "name": "stdout",
     "output_type": "stream",
     "text": [
      "Num =  1 \n",
      "Num =  2 \n",
      "Num =  4 \n",
      "Num =  5 \n"
     ]
    }
   ],
   "source": [
    "for num in range(1,6):        \n",
    "    if num==3:\n",
    "        pass\n",
    "    else:\n",
    "        print (\"Number =  {} \".format(num))"
   ]
  },
  {
   "cell_type": "code",
   "execution_count": null,
   "metadata": {},
   "outputs": [],
   "source": [
    "Exercises1 :  Break in list of elements"
   ]
  },
  {
   "cell_type": "code",
   "execution_count": 25,
   "metadata": {},
   "outputs": [
    {
     "name": "stdout",
     "output_type": "stream",
     "text": [
      "python\n",
      "Java\n"
     ]
    }
   ],
   "source": [
    "languages = ['python','Java','Javascript','Ruby']\n",
    "for i in languages:\n",
    "    if i == 'Javascript':\n",
    "        break                     // practice continue and pass by replacing break\n",
    "    print(i)"
   ]
  },
  {
   "cell_type": "code",
   "execution_count": null,
   "metadata": {},
   "outputs": [],
   "source": [
    "Exercise2 :  Print cubes of numbers except 3"
   ]
  },
  {
   "cell_type": "code",
   "execution_count": 33,
   "metadata": {},
   "outputs": [
    {
     "name": "stdout",
     "output_type": "stream",
     "text": [
      "1 is cube of 1\n",
      "8 is cube of 2\n",
      "3 is skipped\n",
      "64 is cube of 4\n",
      "125 is cube of 5\n",
      "216 is cube of 6\n",
      "343 is cube of 7\n",
      "512 is cube of 8\n",
      "729 is cube of 9\n",
      "1000 is cube of 10\n"
     ]
    }
   ],
   "source": [
    "n = range(1,11)\n",
    "for i in n:\n",
    "    if i == 3:\n",
    "        print(\"3 is skipped\")\n",
    "        continue\n",
    "    print(i**3 , \"is cube of\", i)    \n"
   ]
  },
  {
   "cell_type": "code",
   "execution_count": null,
   "metadata": {},
   "outputs": [],
   "source": [
    "Exercise3 :  Print only odd numbers from a list of numbers using continue"
   ]
  },
  {
   "cell_type": "code",
   "execution_count": 34,
   "metadata": {},
   "outputs": [
    {
     "name": "stdout",
     "output_type": "stream",
     "text": [
      "23\n",
      "43\n"
     ]
    }
   ],
   "source": [
    "n = [10,20,23,43,54,106]   # List of numbers\n",
    "p = 0  # initial position is 1\n",
    "while p < len(n):          \n",
    "    if n[p]%2 == 0:\n",
    "        p = p+1\n",
    "        continue\n",
    "    print(n[p])\n",
    "    p=p+1"
   ]
  },
  {
   "cell_type": "code",
   "execution_count": null,
   "metadata": {},
   "outputs": [],
   "source": [
    "above example using for loop"
   ]
  },
  {
   "cell_type": "code",
   "execution_count": 43,
   "metadata": {},
   "outputs": [
    {
     "name": "stdout",
     "output_type": "stream",
     "text": [
      "23\n",
      "43\n"
     ]
    }
   ],
   "source": [
    "# list of numbers \n",
    "n = [10,20,23,43,54,106] \n",
    "  \n",
    "# iterating each number in list \n",
    "for i in n: \n",
    "    # checking condition \n",
    "    if i % 2 != 0: \n",
    "        print(i) \n"
   ]
  },
  {
   "cell_type": "code",
   "execution_count": null,
   "metadata": {},
   "outputs": [],
   "source": [
    "practice above example using while loop and here the same example using list comprehention\n"
   ]
  },
  {
   "cell_type": "code",
   "execution_count": 44,
   "metadata": {},
   "outputs": [
    {
     "name": "stdout",
     "output_type": "stream",
     "text": [
      "[23, 43]\n"
     ]
    }
   ],
   "source": [
    "# Using List comprehention\n",
    "n = [10,20,23,43,54,106] \n",
    "odds = [i for i in n if i % 2 != 0]\n",
    "print(odds)   \n"
   ]
  },
  {
   "cell_type": "code",
   "execution_count": 46,
   "metadata": {},
   "outputs": [
    {
     "name": "stdout",
     "output_type": "stream",
     "text": [
      "[23, 43]\n"
     ]
    }
   ],
   "source": [
    "# using lambda fuction\n",
    "n = [10,20,23,43,54,106] \n",
    "odds = list(filter(lambda i: (i%2 !=0 ),n))\n",
    "print(odds)"
   ]
  },
  {
   "cell_type": "code",
   "execution_count": null,
   "metadata": {},
   "outputs": [],
   "source": [
    "# Exercise 4: Example for using 'break' to  print tables continuousy from 2 by taking user choice\n",
    "to continue to print or break"
   ]
  },
  {
   "cell_type": "code",
   "execution_count": null,
   "metadata": {},
   "outputs": [
    {
     "name": "stdout",
     "output_type": "stream",
     "text": [
      "2 X 1 = 2\n",
      "\n",
      "2 X 2 = 4\n",
      "\n",
      "2 X 3 = 6\n",
      "\n",
      "Enter 1 for CONTINUE printing next table and press 0 to EXIT1\n",
      "3 X 1 = 3\n",
      "\n",
      "3 X 2 = 6\n",
      "\n",
      "3 X 3 = 9\n",
      "\n"
     ]
    }
   ],
   "source": [
    "n=2     # Initilize table numbers\n",
    "while 1:  \n",
    "    i=1;  \n",
    "    while i<=3:               # Table to print upto 3 times \n",
    "        print(\"%d X %d = %d\\n\"%(n,i,n*i));  \n",
    "        i = i+1;  \n",
    "    choice = int(input(\"Enter 1 for CONTINUE printing next table and press 0 to EXIT\"))  \n",
    "    if choice == 0:  \n",
    "        break;      \n",
    "    n=n+1  "
   ]
  },
  {
   "cell_type": "code",
   "execution_count": 13,
   "metadata": {},
   "outputs": [
    {
     "name": "stdout",
     "output_type": "stream",
     "text": [
      "number: 60\n",
      "number: 59\n",
      "number: 58\n"
     ]
    }
   ],
   "source": [
    "n = 60\n",
    "while n > 50:\n",
    "    print('number:',n)\n",
    "    n = n -1\n",
    "    if n == 57 :\n",
    "        break   \n",
    "    "
   ]
  },
  {
   "cell_type": "code",
   "execution_count": null,
   "metadata": {},
   "outputs": [],
   "source": [
    "# Exercise6 : calculate sum of first 3 integers in a tuple of 8 numbers and then break"
   ]
  },
  {
   "cell_type": "code",
   "execution_count": 15,
   "metadata": {},
   "outputs": [
    {
     "name": "stdout",
     "output_type": "stream",
     "text": [
      "Sum of first  3 integers is:  6\n"
     ]
    }
   ],
   "source": [
    "n = (1, 2, 3, 4, 5, 6, 7, 8, 9) # Declaring the tuple\n",
    "sum = 0\n",
    "count = 0\n",
    "for x in n:\n",
    "    sum = sum + x\n",
    "    count = count + 1 \n",
    "    if count == 3:\n",
    "        break\n",
    "print(\"Sum of first \",count,\"integers is: \", sum)"
   ]
  }
 ],
 "metadata": {
  "kernelspec": {
   "display_name": "Python 3",
   "language": "python",
   "name": "python3"
  },
  "language_info": {
   "codemirror_mode": {
    "name": "ipython",
    "version": 3
   },
   "file_extension": ".py",
   "mimetype": "text/x-python",
   "name": "python",
   "nbconvert_exporter": "python",
   "pygments_lexer": "ipython3",
   "version": "3.7.2"
  }
 },
 "nbformat": 4,
 "nbformat_minor": 2
}
